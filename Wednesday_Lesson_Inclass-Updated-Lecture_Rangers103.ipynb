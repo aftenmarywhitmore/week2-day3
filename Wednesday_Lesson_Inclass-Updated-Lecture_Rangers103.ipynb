{
 "cells": [
  {
   "cell_type": "markdown",
   "metadata": {},
   "source": [
    "# Dictionaries, Sets, & Importing Modules"
   ]
  },
  {
   "cell_type": "markdown",
   "metadata": {},
   "source": [
    "## Tasks Today:\n",
    "\n",
    "1) Dictionary <br>\n",
    " &nbsp;&nbsp;&nbsp;&nbsp; a) Declaring (key, value) <br>\n",
    " &nbsp;&nbsp;&nbsp;&nbsp; b) Accessing Values <br>\n",
    " &nbsp;&nbsp;&nbsp;&nbsp; ------ Exercise #1 - Print the eye color of each person in a double nested dict <br>\n",
    " &nbsp;&nbsp;&nbsp;&nbsp; c) Adding New Pairs <br>\n",
    " &nbsp;&nbsp;&nbsp;&nbsp; d) Modifying Values <br>\n",
    " &nbsp;&nbsp;&nbsp;&nbsp; e) Removing Key, Value Pairs <br>\n",
    " &nbsp;&nbsp;&nbsp;&nbsp; f) Looping a Dictionary <br>\n",
    " &nbsp;&nbsp;&nbsp;&nbsp; g) Looping Only Keys <br>\n",
    " &nbsp;&nbsp;&nbsp;&nbsp; h) Looping Only Values <br>\n",
    " &nbsp;&nbsp;&nbsp;&nbsp; ------ Exercise #2 - Create a Function that Prints All Key Value Pairs within a print .format()  <br>\n",
    " &nbsp;&nbsp;&nbsp;&nbsp; i) sorted() <br>\n",
    " &nbsp;&nbsp;&nbsp;&nbsp; j) Lists with Dictionaries <br>\n",
    " &nbsp;&nbsp;&nbsp;&nbsp; k) Dictionaries with Lists <br>\n",
    " &nbsp;&nbsp;&nbsp;&nbsp; l) Dictionaries with Dictionaries <br>\n",
    " &nbsp;&nbsp;&nbsp;&nbsp; ------ Exercise #3 - Write a Function that asks someone's name and address, and then stores that into a dictionary, which prints all names and addresses after they're done putting information in...  <br>\n",
    "2) Dictionaries vs. Lists (over time)<br>\n",
    "3) Set <br>\n",
    " &nbsp;&nbsp;&nbsp;&nbsp; a) Declaring <br>\n",
    " &nbsp;&nbsp;&nbsp;&nbsp; b) .add() <br>\n",
    " &nbsp;&nbsp;&nbsp;&nbsp; c) .remove() <br>\n",
    " &nbsp;&nbsp;&nbsp;&nbsp; d) .union() <br>\n",
    " &nbsp;&nbsp;&nbsp;&nbsp; e) .intersection() <br>\n",
    " &nbsp;&nbsp;&nbsp;&nbsp; f) .difference() <br>\n",
    " &nbsp;&nbsp;&nbsp;&nbsp; g) Frozen Set <br>\n",
    "4) Modules <br>\n",
    " &nbsp;&nbsp;&nbsp;&nbsp; a) Importing Entire Modules <br>\n",
    " &nbsp;&nbsp;&nbsp;&nbsp; b) Importing Methods Only <br>\n",
    " &nbsp;&nbsp;&nbsp;&nbsp; c) Using the 'as' Keyword <br>\n",
    " &nbsp;&nbsp;&nbsp;&nbsp; d) Creating a Module <br>\n",
    "5) Exercises <br>\n",
    " &nbsp;&nbsp;&nbsp;&nbsp; a) Build a Shopping Cart <br>\n",
    " &nbsp;&nbsp;&nbsp;&nbsp; b) Create Your Own Module <br>"
   ]
  },
  {
   "cell_type": "markdown",
   "metadata": {},
   "source": [
    "## Dictionary <br>\n",
    "<p>A collection of data with 'key:value' pairs. Dictionaries are ordered as of Python 3.6</p>"
   ]
  },
  {
   "cell_type": "markdown",
   "metadata": {},
   "source": [
    "##### Declaring (key, value)"
   ]
  },
  {
   "cell_type": "code",
   "execution_count": 3,
   "metadata": {},
   "outputs": [],
   "source": [
    "# keys should be unique; values can be anything\n",
    "# can use numbers or strings as keys\n",
    "d_1 = {} \n",
    "\n",
    "#or\n",
    "\n",
    "d_2 = dict()\n",
    "\n",
    "#or \n",
    "\n",
    "d_3 = {\"Tom\": \"255 Main Street\", \n",
    "     \"Jerry\": \"257 Main Street\",\n",
    "     \"Spike\": \"253 Main Street\",\n",
    "     0: \"This is a value of 0 for the key 0\" #the key in this line is 0; the value is the \"\"\n",
    "    \n",
    "}\n"
   ]
  },
  {
   "cell_type": "markdown",
   "metadata": {},
   "source": [
    "##### Accessing Values"
   ]
  },
  {
   "cell_type": "code",
   "execution_count": 5,
   "metadata": {},
   "outputs": [
    {
     "name": "stdout",
     "output_type": "stream",
     "text": [
      "255 Main Street\n",
      "This is a value of 0 for the key 0\n"
     ]
    }
   ],
   "source": [
    "# dict[key]\n",
    "print(d_3[\"Tom\"])\n",
    "\n",
    "print(d_3[0])"
   ]
  },
  {
   "cell_type": "markdown",
   "metadata": {},
   "source": [
    "## In-Class Exercise #1 - Print a formatted statement from the dictionary below <br>\n",
    "<p>The output should be '2018 Chevrolet Silverado'</p>"
   ]
  },
  {
   "cell_type": "code",
   "execution_count": 9,
   "metadata": {},
   "outputs": [
    {
     "name": "stdout",
     "output_type": "stream",
     "text": [
      "2018 Chevrolet Silverado\n"
     ]
    }
   ],
   "source": [
    "# use the dict below\n",
    "truck = {\n",
    "    \"year\": 2018,\n",
    "    'make': 'Chevrolet',\n",
    "    'model': 'Silverado'\n",
    "}\n",
    "\n",
    "print(truck[\"year\"], truck['make'], truck['model'])"
   ]
  },
  {
   "cell_type": "markdown",
   "metadata": {},
   "source": [
    "##### Adding New Pairs"
   ]
  },
  {
   "cell_type": "code",
   "execution_count": 14,
   "metadata": {},
   "outputs": [
    {
     "name": "stdout",
     "output_type": "stream",
     "text": [
      "{'Tom': '255 Main Street', 'Jerry': '257 Main Street', 'Spike': '253 Main Street', 0: 'This is a value of 0 for the key 0'}\n",
      "{'Tom': '255 Main Street', 'Jerry': '257 Main Street', 'Spike': '253 Main Street', 0: 'This is a value of 0 for the key 0', 'Tyke': '253 Main Street'}\n"
     ]
    }
   ],
   "source": [
    "# dict[key] = value\n",
    "\n",
    "d_3 = {\"Tom\": \"255 Main Street\", \n",
    "     \"Jerry\": \"257 Main Street\",\n",
    "     \"Spike\": \"253 Main Street\",\n",
    "     0: \"This is a value of 0 for the key 0\"\n",
    "    \n",
    "}\n",
    "print(d_3)\n",
    "\n",
    "d_3[\"Tyke\"] = \"253 Main Street\"\n",
    "\n",
    "print(d_3)"
   ]
  },
  {
   "cell_type": "markdown",
   "metadata": {},
   "source": [
    "##### Modifying Values"
   ]
  },
  {
   "cell_type": "code",
   "execution_count": 15,
   "metadata": {},
   "outputs": [
    {
     "name": "stdout",
     "output_type": "stream",
     "text": [
      "255 Main Street\n",
      "258 Main Street\n"
     ]
    }
   ],
   "source": [
    "# dict[key] = value\n",
    "#looks a lot like adding a new value^\n",
    "\n",
    "print(d_3[\"Tom\"])\n",
    "\n",
    "d_3[\"Tom\"] = \"258 Main Street\"\n",
    "print(d_3[\"Tom\"])"
   ]
  },
  {
   "cell_type": "markdown",
   "metadata": {},
   "source": [
    "##### Removing Key, Value Pairs"
   ]
  },
  {
   "cell_type": "code",
   "execution_count": 16,
   "metadata": {},
   "outputs": [
    {
     "name": "stdout",
     "output_type": "stream",
     "text": [
      "{'Tom': '258 Main Street', 'Jerry': '257 Main Street', 'Spike': '253 Main Street', 0: 'This is a value of 0 for the key 0', 'Tyke': '253 Main Street'}\n",
      "{'Tom': '258 Main Street', 'Jerry': '257 Main Street', 'Spike': '253 Main Street', 'Tyke': '253 Main Street'}\n"
     ]
    }
   ],
   "source": [
    "# del dict[key]\n",
    "\n",
    "print(d_3)\n",
    "\n",
    "del d_3[0]\n",
    "print(d_3)"
   ]
  },
  {
   "cell_type": "markdown",
   "metadata": {},
   "source": [
    "##### Looping a Dictionary"
   ]
  },
  {
   "cell_type": "code",
   "execution_count": 19,
   "metadata": {},
   "outputs": [
    {
     "name": "stdout",
     "output_type": "stream",
     "text": [
      "Tom   258 Main Street\n",
      "Jerry   257 Main Street\n",
      "Spike   253 Main Street\n",
      "Tyke   253 Main Street\n"
     ]
    }
   ],
   "source": [
    "# dict.items()\n",
    "# a, b, c = 1, 2, 3\n",
    "\n",
    "for name, address in d_3.items():\n",
    "    print(name, \" \", address)\n"
   ]
  },
  {
   "cell_type": "markdown",
   "metadata": {},
   "source": [
    "##### Looping Only Keys"
   ]
  },
  {
   "cell_type": "code",
   "execution_count": 22,
   "metadata": {},
   "outputs": [
    {
     "name": "stdout",
     "output_type": "stream",
     "text": [
      "Tom\n",
      "Jerry\n",
      "Spike\n",
      "Tyke\n",
      "\n",
      "\n",
      "Tom\n",
      "Jerry\n",
      "Spike\n",
      "Tyke\n"
     ]
    }
   ],
   "source": [
    "# dict.keys()\n",
    "# a, b, c = 1, 2, 3\n",
    "\n",
    "for key in d_3.keys():\n",
    "    print(key)\n",
    "    \n",
    "print(\"\\n\")\n",
    "\n",
    "for key in d_3:\n",
    "    print(key)\n"
   ]
  },
  {
   "cell_type": "markdown",
   "metadata": {},
   "source": [
    "##### Looping Only Values"
   ]
  },
  {
   "cell_type": "code",
   "execution_count": 24,
   "metadata": {},
   "outputs": [
    {
     "name": "stdout",
     "output_type": "stream",
     "text": [
      "258 Main Street\n",
      "257 Main Street\n",
      "253 Main Street\n",
      "253 Main Street\n",
      "\n",
      "\n"
     ]
    }
   ],
   "source": [
    "#dict.values()\n",
    "for value in d_3.values():\n",
    "    print(value)\n",
    "    \n",
    "print(\"\\n\")\n",
    "    \n",
    "address_list = [value for value in d_3.values()]"
   ]
  },
  {
   "cell_type": "markdown",
   "metadata": {},
   "source": [
    "In-Class Exercise #2 - Create a Function that Prints All Key Value Pairs within an f string\n",
    "\n",
    "\n",
    "Output should be:\n",
    "\n",
    "Max has blue eyes\n",
    "Lilly has brown eyes\n",
    "Barney has blue eyes\n",
    "etc.\n"
   ]
  },
  {
   "cell_type": "code",
   "execution_count": 37,
   "metadata": {},
   "outputs": [
    {
     "name": "stdout",
     "output_type": "stream",
     "text": [
      "Max has blue eyes\n",
      "Lilly has brown eyes\n",
      "Barney has blue eyes\n"
     ]
    }
   ],
   "source": [
    "# use the dict below\n",
    "eye_balls = {\n",
    "    \"Max\" : \"blue eyes\",\n",
    "    \"Lilly\" : \"brown eyes\",\n",
    "    \"Barney\" : \"blue eyes\"\n",
    "}\n",
    "\n",
    "print(\"Max has \" + (eye_balls[\"Max\"]))\n",
    "print(\"Lilly has \" + (eye_balls[\"Lilly\"]))\n",
    "print(\"Barney has \" + (eye_balls[\"Barney\"])) \n",
    "\n",
    "\n"
   ]
  },
  {
   "cell_type": "markdown",
   "metadata": {},
   "source": [
    "##### sorted()"
   ]
  },
  {
   "cell_type": "code",
   "execution_count": 41,
   "metadata": {},
   "outputs": [
    {
     "name": "stdout",
     "output_type": "stream",
     "text": [
      "['Barney', 'Lilly', 'Max']\n",
      "['Blue eyes', 'Blue eyes', 'Brown eyes']\n",
      "[('Barney', 'Blue eyes'), ('Lilly', 'Brown eyes'), ('Max', 'Blue eyes')]\n"
     ]
    }
   ],
   "source": [
    "# sorts variables in order\n",
    "# sorted(dict.values()) or dict.keys() or dict.items()\n",
    "#sorted= create another copy of our iterable/list\n",
    "#.sort= sorts/alters original iterable/list\n",
    "\n",
    "eye_balls = {\n",
    "    \"Max\" : \"Blue eyes\",\n",
    "    \"Lilly\" : \"Brown eyes\",\n",
    "    \"Barney\" : \"Blue eyes\"\n",
    "}\n",
    "\n",
    "print(sorted(eye_balls.keys()))\n",
    "print(sorted(eye_balls.values()))\n",
    "print(sorted(eye_balls.items()))"
   ]
  },
  {
   "cell_type": "markdown",
   "metadata": {},
   "source": [
    "##### List with Dictionaries"
   ]
  },
  {
   "cell_type": "code",
   "execution_count": 42,
   "metadata": {},
   "outputs": [
    {
     "name": "stdout",
     "output_type": "stream",
     "text": [
      "Alex\n"
     ]
    }
   ],
   "source": [
    "my_list = [1, 3, 5, 3.5, 6.7, 12.8, \"mega man\", \"lando\", \"water bottle\"]\n",
    "\n",
    "my_list2 = [1, 45, 78, [\"Ryan\", \"Alex\", \"Tarun\"]]\n",
    "\n",
    "print(my_list2[3][1])"
   ]
  },
  {
   "cell_type": "code",
   "execution_count": 49,
   "metadata": {},
   "outputs": [
    {
     "name": "stdout",
     "output_type": "stream",
     "text": [
      "['Poke Ball', 'Great Ball', {'Master Ball': 'Lugia', 'Ultra Ball': 'Tauros'}]\n",
      "Lugia\n"
     ]
    }
   ],
   "source": [
    "poke_balls = [\"Poke Ball\", \"Great Ball\", {\"Master Ball\": \"Lugia\", \"Ultra Ball\": \"Tauros\"}]\n",
    "\n",
    "print(poke_balls)\n",
    "\n",
    "print(poke_balls[2][\"Master Ball\"])"
   ]
  },
  {
   "cell_type": "markdown",
   "metadata": {},
   "source": [
    "##### Dictionaries with Lists"
   ]
  },
  {
   "cell_type": "code",
   "execution_count": 58,
   "metadata": {},
   "outputs": [
    {
     "name": "stdout",
     "output_type": "stream",
     "text": [
      "[54, 90, 10]\n",
      "54\n",
      "54\n",
      "90\n",
      "10\n",
      "Perry\n",
      "Tarun\n",
      "Raul\n",
      "Perry\n",
      "Tarun\n",
      "Raul\n"
     ]
    }
   ],
   "source": [
    "# be careful when using numbers as keys in dictionaries, don't confuse them with indexes\n",
    "\n",
    "random_data = {\n",
    "    \"list_1\" : [54, 90, 10],\n",
    "    \"name_list\" : [\"Perry\", \"Tarun\", \"Raul\"]\n",
    "}\n",
    "\n",
    "print(random_data[\"list_1\"])\n",
    "print(random_data[\"list_1\"][0])\n",
    "\n",
    "for val in random_data[\"list_1\"]:\n",
    "    print(val)\n",
    "\n",
    "for name in random_data[\"name_list\"]:\n",
    "    print(name)\n",
    "    \n",
    "for i in range(len(random_data[\"name_list\"])):\n",
    "    print(random_data[\"name_list\"][i])"
   ]
  },
  {
   "cell_type": "markdown",
   "metadata": {},
   "source": [
    "##### Dictionaries with Dictionaries"
   ]
  },
  {
   "cell_type": "code",
   "execution_count": 60,
   "metadata": {},
   "outputs": [],
   "source": [
    "# to get values, must traverse through keys\n",
    "\n",
    "# to get values, must traverse through keys\n",
    "\n",
    "food_dict = {\n",
    "    \"Ryan\": {\n",
    "        \"desserts\": [\"Pie\", \"chocolate chip cookes\", \"ice cream\", \"muffins\"],\n",
    "        \"noodles\": [\"Ramen\", \"Pho\", \"Shells\"],\n",
    "        \"hispanic\": [\"Tacos\", \"Tacos\", \"Tacos\"]\n",
    "        \n",
    "    },\n",
    "        'Alex': {\n",
    "            'hispanic': ['Pupusas', 'Tamales', 'Arepas'],\n",
    "            'italian' : ['Lasagna', 'Spaghetti', 'Pizza'],\n",
    "            'sweets': ['Ice Cream', 'Canolis', 'Souffle']\n",
    "        },\n",
    "       \n",
    "        \"Teddie\": {\n",
    "            \"desserts\": [\"creme brulee\", \"gelato\"],\n",
    "            \"noodles\": [\"ramen\", \"spagetti\"],\n",
    "            \"thai\": [\"moo ping\", \"gung pow\", \"pad thai\"]\n",
    "    },\n",
    "         \"Aften\" : {\n",
    "            \"Cheeses\": [\"Melted\", \"Extra Sharp Cheddar\", \"Halloumi\", \"Goat\"],\n",
    "            \"Pickles\" : [\"Dill\", \"Zesty\", \"Kosher\", \"Fried\"],\n",
    "            \"Breads\" : [\"Gluten Free\", \"Without Gluten\", \"Gluten-less\", \"Sans Gluten\"]\n",
    "    },\n",
    "        'Tarun': {\n",
    "            'desserts': ['Pie', 'cookie dough', 'cupcakes'],\n",
    "            'indian': ['butter chicken', 'paneer bhurji', 'garlic naan'],\n",
    "            'korean': ['bibimbap', 'jjajangmyeon', 'wings']\n",
    "    },\n",
    "        \"Dyonne\": {\n",
    "            \"desserts\": [\"chocolate chip cookies\", \"brownies\", \"ice cream\"],\n",
    "            \"seafood\": [\"crab\", \"shrimp\", \"crawfish\"],\n",
    "            \"beverages\": [\"water\", \"margarita\", \"red wine\"]\n",
    "    },\n",
    "    \"Kelsey\": {\n",
    "        \"noodles\": [\"rigatoni\", \"ramen\", \"tortellini\"],\n",
    "        \"desserts\": [\"chocolate\", \"cookies\", \"ice cream\"],\n",
    "        \"hispanic\": [\"tacos\", \"Enchiladas\"]\n",
    "    },\n",
    "     \"Steve\": {\n",
    "        \"desserts\": [\"anything chocolate\", \"cherry pie\", \"fresh fruit\"],\n",
    "        \"noodles\": [\"ramen\", \"pho\", \"udon\"],\n",
    "        \"hispanic\": [\"tacos\", \"nachos\", \"tostados\"]\n",
    "    },\n",
    "     \"Katie\": {\n",
    "        \"desserts\": [\"chocolate chip cookies\", \"ice cream\", \"cake\"],\n",
    "        \"eggs\": [\"skillet\", \"scrambled\", \"over medium\"],\n",
    "        \"pizza\": [\"margerita\",\"cheese\",\"deep dish\"]\n",
    "        \n",
    "    },\n",
    "      \"Raul\" : {\n",
    "        \"desserts\": [\"Cheesecake\", \"chocolate chip cookies\", \"Ice crem\", ],\n",
    "        \"noodles\": [\"Ramen\", \"Spaguettis\"],\n",
    "        \"Cuban\": [\"Congris\", \"Rosted pork\", \"Fried plantain\"]\n",
    "        \n",
    "    },\n",
    "       \"Kathy\": {\n",
    "        \"desserts\": [\"ice cream\", \"lava cake\", \"donuts\"],\n",
    "        \"asian\": [\"ramen\", \"sushi\", \"kbbq\"],\n",
    "        \"american\": [\"burgers\", \"pizza\", \"buffalo chicken dip\"],\n",
    "    },\n",
    "    \"Perry\": {\n",
    "        \"sweets\": ['bear claw', 'twinkeis', 'red velvet'],\n",
    "        \"assorted\": ['cheeseburgers', 'steak', 'hummus'],\n",
    "        \"asian\": ['tteokbakki', 'larb', 'tofu skins']\n",
    "    }\n",
    "}\n",
    "\n",
    "\n",
    "    \n",
    "\n",
    "    \n",
    "    \n",
    "\n",
    "\n",
    "\n",
    "\n",
    "    "
   ]
  },
  {
   "cell_type": "code",
   "execution_count": 65,
   "metadata": {},
   "outputs": [
    {
     "name": "stdout",
     "output_type": "stream",
     "text": [
      "Pie\n",
      "chocolate chip cookes\n",
      "ice cream\n",
      "muffins\n",
      "Ryan {'desserts': ['Pie', 'chocolate chip cookes', 'ice cream', 'muffins'], 'noodles': ['Ramen', 'Pho', 'Shells'], 'hispanic': ['Tacos', 'Tacos', 'Tacos']}\n",
      "Alex {'hispanic': ['Pupusas', 'Tamales', 'Arepas'], 'italian': ['Lasagna', 'Spaghetti', 'Pizza'], 'sweets': ['Ice Cream', 'Canolis', 'Souffle']}\n",
      "Teddie {'desserts': ['creme brulee', 'gelato'], 'noodles': ['ramen', 'spagetti'], 'thai': ['moo ping', 'gung pow', 'pad thai']}\n",
      "Aften {'Cheeses': ['Melted', 'Extra Sharp Cheddar', 'Halloumi', 'Goat'], 'Pickles': ['Dill', 'Zesty', 'Kosher', 'Fried'], 'Breads': ['Gluten Free', 'Without Gluten', 'Gluten-less', 'Sans Gluten']}\n",
      "Tarun {'desserts': ['Pie', 'cookie dough', 'cupcakes'], 'indian': ['butter chicken', 'paneer bhurji', 'garlic naan'], 'korean': ['bibimbap', 'jjajangmyeon', 'wings']}\n",
      "Dyonne {'desserts': ['chocolate chip cookies', 'brownies', 'ice cream'], 'seafood': ['crab', 'shrimp', 'crawfish'], 'beverages': ['water', 'margarita', 'red wine']}\n",
      "Kelsey {'noodles': ['rigatoni', 'ramen', 'tortellini'], 'desserts': ['chocolate', 'cookies', 'ice cream'], 'hispanic': ['tacos', 'Enchiladas']}\n",
      "Steve {'desserts': ['anything chocolate', 'cherry pie', 'fresh fruit'], 'noodles': ['ramen', 'pho', 'udon'], 'hispanic': ['tacos', 'nachos', 'tostados']}\n",
      "Katie {'desserts': ['chocolate chip cookies', 'ice cream', 'cake'], 'eggs': ['skillet', 'scrambled', 'over medium'], 'pizza': ['margerita', 'cheese', 'deep dish']}\n",
      "Raul {'desserts': ['Cheesecake', 'chocolate chip cookies', 'Ice crem'], 'noodles': ['Ramen', 'Spaguettis'], 'Cuban': ['Congris', 'Rosted pork', 'Fried plantain']}\n",
      "Kathy {'desserts': ['ice cream', 'lava cake', 'donuts'], 'asian': ['ramen', 'sushi', 'kbbq'], 'american': ['burgers', 'pizza', 'buffalo chicken dip']}\n",
      "Perry {'sweets': ['bear claw', 'twinkeis', 'red velvet'], 'assorted': ['cheeseburgers', 'steak', 'hummus'], 'asian': ['tteokbakki', 'larb', 'tofu skins']}\n"
     ]
    }
   ],
   "source": [
    "for dessert in food_dict[\"Ryan\"][\"desserts\"]:\n",
    "    print(dessert)\n",
    "    \n",
    "for key, values in food_dict.items():\n",
    "    print(key, values)"
   ]
  },
  {
   "cell_type": "code",
   "execution_count": 70,
   "metadata": {},
   "outputs": [
    {
     "name": "stdout",
     "output_type": "stream",
     "text": [
      "\n",
      "Here are our favorite foods: \n",
      "\n",
      "\n",
      "Ryan's favorite foods are: \n",
      "desserts\n",
      "noodles\n",
      "hispanic\n",
      "\n",
      "Alex's favorite foods are: \n",
      "hispanic\n",
      "italian\n",
      "sweets\n",
      "\n",
      "Teddie's favorite foods are: \n",
      "desserts\n",
      "noodles\n",
      "thai\n",
      "\n",
      "Aften's favorite foods are: \n",
      "Cheeses\n",
      "Pickles\n",
      "Breads\n",
      "\n",
      "Tarun's favorite foods are: \n",
      "desserts\n",
      "indian\n",
      "korean\n",
      "\n",
      "Dyonne's favorite foods are: \n",
      "desserts\n",
      "seafood\n",
      "beverages\n",
      "\n",
      "Kelsey's favorite foods are: \n",
      "noodles\n",
      "desserts\n",
      "hispanic\n",
      "\n",
      "Steve's favorite foods are: \n",
      "desserts\n",
      "noodles\n",
      "hispanic\n",
      "\n",
      "Katie's favorite foods are: \n",
      "desserts\n",
      "eggs\n",
      "pizza\n",
      "\n",
      "Raul's favorite foods are: \n",
      "desserts\n",
      "noodles\n",
      "Cuban\n",
      "\n",
      "Kathy's favorite foods are: \n",
      "desserts\n",
      "asian\n",
      "american\n",
      "\n",
      "Perry's favorite foods are: \n",
      "sweets\n",
      "assorted\n",
      "asian\n"
     ]
    }
   ],
   "source": [
    "#everyone's favorite foods\n",
    "#keys: everyones names\n",
    "#key value pairs: everyones individual dictionary\n",
    "print(\"\\nHere are our favorite foods: \\n\")\n",
    "for name in food_dict.keys():\n",
    "    print(f\"\\n{name}'s favorite foods are: \")\n",
    "    for food_type in food_dict[name].keys():\n",
    "        print(food_type)\n",
    "      "
   ]
  },
  {
   "cell_type": "code",
   "execution_count": 69,
   "metadata": {},
   "outputs": [
    {
     "name": "stdout",
     "output_type": "stream",
     "text": [
      "\n",
      "Here are all our foods listed: \n",
      "\n",
      "\n",
      "Ryan's favorite foods are: \n",
      "Pie\n",
      "chocolate chip cookes\n",
      "ice cream\n",
      "muffins\n",
      "Ramen\n",
      "Pho\n",
      "Shells\n",
      "Tacos\n",
      "Tacos\n",
      "Tacos\n",
      "\n",
      "Alex's favorite foods are: \n",
      "Pupusas\n",
      "Tamales\n",
      "Arepas\n",
      "Lasagna\n",
      "Spaghetti\n",
      "Pizza\n",
      "Ice Cream\n",
      "Canolis\n",
      "Souffle\n",
      "\n",
      "Teddie's favorite foods are: \n",
      "creme brulee\n",
      "gelato\n",
      "ramen\n",
      "spagetti\n",
      "moo ping\n",
      "gung pow\n",
      "pad thai\n",
      "\n",
      "Aften's favorite foods are: \n",
      "Melted\n",
      "Extra Sharp Cheddar\n",
      "Halloumi\n",
      "Goat\n",
      "Dill\n",
      "Zesty\n",
      "Kosher\n",
      "Fried\n",
      "Gluten Free\n",
      "Without Gluten\n",
      "Gluten-less\n",
      "Sans Gluten\n",
      "\n",
      "Tarun's favorite foods are: \n",
      "Pie\n",
      "cookie dough\n",
      "cupcakes\n",
      "butter chicken\n",
      "paneer bhurji\n",
      "garlic naan\n",
      "bibimbap\n",
      "jjajangmyeon\n",
      "wings\n",
      "\n",
      "Dyonne's favorite foods are: \n",
      "chocolate chip cookies\n",
      "brownies\n",
      "ice cream\n",
      "crab\n",
      "shrimp\n",
      "crawfish\n",
      "water\n",
      "margarita\n",
      "red wine\n",
      "\n",
      "Kelsey's favorite foods are: \n",
      "rigatoni\n",
      "ramen\n",
      "tortellini\n",
      "chocolate\n",
      "cookies\n",
      "ice cream\n",
      "tacos\n",
      "Enchiladas\n",
      "\n",
      "Steve's favorite foods are: \n",
      "anything chocolate\n",
      "cherry pie\n",
      "fresh fruit\n",
      "ramen\n",
      "pho\n",
      "udon\n",
      "tacos\n",
      "nachos\n",
      "tostados\n",
      "\n",
      "Katie's favorite foods are: \n",
      "chocolate chip cookies\n",
      "ice cream\n",
      "cake\n",
      "skillet\n",
      "scrambled\n",
      "over medium\n",
      "margerita\n",
      "cheese\n",
      "deep dish\n",
      "\n",
      "Raul's favorite foods are: \n",
      "Cheesecake\n",
      "chocolate chip cookies\n",
      "Ice crem\n",
      "Ramen\n",
      "Spaguettis\n",
      "Congris\n",
      "Rosted pork\n",
      "Fried plantain\n",
      "\n",
      "Kathy's favorite foods are: \n",
      "ice cream\n",
      "lava cake\n",
      "donuts\n",
      "ramen\n",
      "sushi\n",
      "kbbq\n",
      "burgers\n",
      "pizza\n",
      "buffalo chicken dip\n",
      "\n",
      "Perry's favorite foods are: \n",
      "bear claw\n",
      "twinkeis\n",
      "red velvet\n",
      "cheeseburgers\n",
      "steak\n",
      "hummus\n",
      "tteokbakki\n",
      "larb\n",
      "tofu skins\n"
     ]
    }
   ],
   "source": [
    "#print all foods\n",
    "print(\"\\nHere are all our foods listed: \\n\")\n",
    "for name in food_dict.keys():\n",
    "    print(f\"\\n{name}'s favorite foods are: \")\n",
    "    for food_type in food_dict[name].keys():\n",
    "        for food in food_dict[name][food_type]:\n",
    "            print(food)"
   ]
  },
  {
   "cell_type": "markdown",
   "metadata": {},
   "source": [
    "## Dictionaries vs. Lists (over time) Example of RUNTIME\n",
    "### When inputting values in a Dictionary vs List"
   ]
  },
  {
   "cell_type": "code",
   "execution_count": 75,
   "metadata": {},
   "outputs": [],
   "source": [
    "import time\n",
    "\n",
    "#Generate a dictionary \n",
    "d = {}\n",
    "\n",
    "for i in range(10000000):\n",
    "    d[i] = \"value\" + str(i) #i is value; i will change for each iteration \n",
    "    \n",
    "#Generate a list\n",
    "big_list = [x for x in range(10000000)]\n",
    "\n",
    "\n",
    "    "
   ]
  },
  {
   "cell_type": "code",
   "execution_count": 80,
   "metadata": {},
   "outputs": [
    {
     "name": "stdout",
     "output_type": "stream",
     "text": [
      "value9999999\n",
      "Elapsed Time for dictionary: 0.0006799697875976562\n",
      "9999999\n",
      "Elapsed Time for list: 0.5447149276733398\n",
      "9999999\n",
      "Elapsed time for list with a known position 5.793571472167969e-05\n"
     ]
    }
   ],
   "source": [
    "#Track the time for the dicitonary \n",
    "\n",
    "start_time = time.time()\n",
    "print(d[9999999])\n",
    "end_time = time.time() - start_time\n",
    "print(f\"Elapsed Time for dictionary: {end_time}\")\n",
    "\n",
    "#track time for the list\n",
    "start_time = time.time()\n",
    "\n",
    "for i in range(len(big_list)):\n",
    "    if i == 9999999:\n",
    "        print(i)\n",
    "end_time = time.time() - start_time\n",
    "print(f\"Elapsed Time for list: {end_time}\")\n",
    "\n",
    "#tracking time for the list with known position \n",
    "\n",
    "start_time = time.time() \n",
    "print(big_list[-1])\n",
    "\n",
    "end_time = time.time() - start_time\n",
    "print(f\"Elapsed time for list with a known position {end_time}\")"
   ]
  },
  {
   "cell_type": "markdown",
   "metadata": {},
   "source": [
    "## Exercise #3 - Write a Function that asks someone's name and address, and then stores that into a dictionary, and continues to do so until they choose to 'quit'. Once they quit, the program should print all names and addresses. <br>\n",
    "<p>\n",
    "<b>Proper steps:</b><br>\n",
    "step 1: write a function that takes in information and stores it in a dictionary<br>\n",
    "step 2: define an empty dictionary to work with<br>\n",
    "step 3: create our loop, which asks the user for information until they quit<br>\n",
    "step 4: ask for the information, and store it into variables<br>\n",
    "step 5: check if the user types quit<br>\n",
    "step 5a: print out all information<br>\n",
    "step 5b: break out of the loop<br>\n",
    "step 6: if they didn't quit, add the information to the dictionary<br>\n",
    "step 7: invoke the function by calling it\n",
    "</p>"
   ]
  },
  {
   "cell_type": "code",
   "execution_count": 81,
   "metadata": {},
   "outputs": [
    {
     "name": "stdout",
     "output_type": "stream",
     "text": [
      "enter a name or say 'quit' to quit: quit\n",
      "The address for Aften  is 21 Carter Drive \n",
      "The address for Ryan  is 1 Street Street\n",
      "The address for Alex is 2 Street Street\n"
     ]
    }
   ],
   "source": [
    "from IPython.display import clear_output\n",
    "\n",
    "# Step 1:\n",
    "def storeInfo():\n",
    "    # Step 2:\n",
    "    d = {} \n",
    "    \n",
    "    #Step 3:\n",
    "    while True: \n",
    "        \n",
    "        #Step 4:\n",
    "        name = input(\"enter a name or say 'quit' to quit: \")\n",
    "        if name.lower().strip() != \"quit\":\n",
    "            address = input(\"Enter an address or say 'quit' to quit: \")\n",
    "            clear_output()\n",
    "        #Step 5:\n",
    "        if name.lower().strip() == \"quit\" or address.lower().strip == \"quit\": \n",
    "            #Step 5a:\n",
    "            for name, address in d.items():\n",
    "                print(f\"The address for {name} is {address}\")\n",
    "            #Step 5b:\n",
    "            break\n",
    "            \n",
    "        #Step 6:\n",
    "        d[name] = address\n",
    "        \n",
    "#Step 7:\n",
    "storeInfo()\n",
    "        "
   ]
  },
  {
   "cell_type": "markdown",
   "metadata": {},
   "source": [
    "## Set <br>\n",
    "<p>A Set is an unordered collection data type that is iterable (loop), mutable, and has no duplicate elements.<br>Major advantage is that it is highly optimized in checking if something is in the set, as opposed to checking if something is in a list.</p>"
   ]
  },
  {
   "cell_type": "markdown",
   "metadata": {},
   "source": [
    "##### Declaring"
   ]
  },
  {
   "cell_type": "code",
   "execution_count": 85,
   "metadata": {},
   "outputs": [
    {
     "name": "stdout",
     "output_type": "stream",
     "text": [
      "{8, 1, 4}\n",
      "3\n",
      "['__and__', '__class__', '__class_getitem__', '__contains__', '__delattr__', '__dir__', '__doc__', '__eq__', '__format__', '__ge__', '__getattribute__', '__gt__', '__hash__', '__iand__', '__init__', '__init_subclass__', '__ior__', '__isub__', '__iter__', '__ixor__', '__le__', '__len__', '__lt__', '__ne__', '__new__', '__or__', '__rand__', '__reduce__', '__reduce_ex__', '__repr__', '__ror__', '__rsub__', '__rxor__', '__setattr__', '__sizeof__', '__str__', '__sub__', '__subclasshook__', '__xor__', 'add', 'clear', 'copy', 'difference', 'difference_update', 'discard', 'intersection', 'intersection_update', 'isdisjoint', 'issubset', 'issuperset', 'pop', 'remove', 'symmetric_difference', 'symmetric_difference_update', 'union', 'update']\n"
     ]
    }
   ],
   "source": [
    "# set() or {}\n",
    "# no order {3, 2, 1} outputs as {1, 2, 3}\n",
    "\n",
    "our_set = set()\n",
    "\n",
    "#values seperated by a comma inside some squiglies\n",
    "nums = {4, 1, 8, 4}\n",
    "print(nums) #removes one of the 4's, but did not maintain the order\n",
    "print(len(nums)) #length of the list \"num\"\n",
    "print(dir(nums)) #directory/more info about the list \n"
   ]
  },
  {
   "cell_type": "markdown",
   "metadata": {},
   "source": [
    "##### .add()"
   ]
  },
  {
   "cell_type": "code",
   "execution_count": 87,
   "metadata": {},
   "outputs": [
    {
     "name": "stdout",
     "output_type": "stream",
     "text": [
      "{8, 1, 4, 22}\n"
     ]
    }
   ],
   "source": [
    "# set.add()\n",
    "#Duplicates will be removed; sets can't do duplicates\n",
    "nums = {1, 8, 4}\n",
    "nums.add(22)\n",
    "print(nums)"
   ]
  },
  {
   "cell_type": "markdown",
   "metadata": {},
   "source": [
    "##### .remove()"
   ]
  },
  {
   "cell_type": "code",
   "execution_count": 88,
   "metadata": {},
   "outputs": [
    {
     "name": "stdout",
     "output_type": "stream",
     "text": [
      "{8, 1, 4}\n"
     ]
    }
   ],
   "source": [
    "# removes by value\n",
    "# set.remove()\n",
    "# nums.remove(56)\n",
    "nums.remove(22)\n",
    "print(nums)"
   ]
  },
  {
   "cell_type": "markdown",
   "metadata": {},
   "source": [
    "##### .union() "
   ]
  },
  {
   "cell_type": "code",
   "execution_count": 89,
   "metadata": {},
   "outputs": [
    {
     "name": "stdout",
     "output_type": "stream",
     "text": [
      "{1, 2, 3, 4, 5, 6}\n",
      "{1, 2, 3, 4, 5, 6}\n"
     ]
    }
   ],
   "source": [
    "# Returns a union of two sets, can also use '|' or set.union(set)\n",
    "# joins all numbers, gets rid of duplicates\n",
    "s1 = {1, 2, 3, 4}\n",
    "s2 = {3, 4, 5, 6}\n",
    "\n",
    "s3 = s1.union(s2)\n",
    "\n",
    "#or \n",
    "\n",
    "s4 = s1 | s2 #this | is the same as .union\n",
    "print(s3)\n",
    "print(s4)\n"
   ]
  },
  {
   "cell_type": "markdown",
   "metadata": {},
   "source": [
    "##### .intersection()"
   ]
  },
  {
   "cell_type": "code",
   "execution_count": 90,
   "metadata": {},
   "outputs": [
    {
     "name": "stdout",
     "output_type": "stream",
     "text": [
      "{3, 4}\n",
      "{3, 4}\n"
     ]
    }
   ],
   "source": [
    "# Returns an intersection of two sets, can also use '&'\n",
    "# only takes similar elements from both sets\n",
    "# comparing two seperate sets and finding what they have in common \n",
    "# CODEWARS PROBLEM\n",
    "# WHITEBOARD PROBLEM\n",
    "\n",
    "s1 = {1, 2, 3, 4}\n",
    "s2 = {3, 4, 5, 6}\n",
    "\n",
    "s5 = s1.intersection(s2)\n",
    "\n",
    "#or\n",
    "\n",
    "s6 = s2 & s1\n",
    "\n",
    "print(s5)\n",
    "print(s6)\n",
    "\n"
   ]
  },
  {
   "cell_type": "markdown",
   "metadata": {},
   "source": [
    "##### .difference()"
   ]
  },
  {
   "cell_type": "code",
   "execution_count": 91,
   "metadata": {},
   "outputs": [
    {
     "name": "stdout",
     "output_type": "stream",
     "text": [
      "{1, 2}\n",
      "{5, 6}\n"
     ]
    }
   ],
   "source": [
    "# Returns a set containing all the elements of invoking set that are not in the second set, can also use '-'\n",
    "# only takes values from the first set that are not in the second set\n",
    "# order matters\n",
    "# whatever items show up are the non-overlapping items \n",
    "s1 = {1, 2, 3, 4}\n",
    "s2 = {3, 4, 5, 6}\n",
    "\n",
    "s7 = s1 - s2\n",
    "\n",
    "#or\n",
    "\n",
    "s8 = s2.difference(s1)\n",
    "\n",
    "print(s7)\n",
    "print(s8)\n",
    "\n"
   ]
  },
  {
   "cell_type": "markdown",
   "metadata": {},
   "source": [
    "##### .clear()"
   ]
  },
  {
   "cell_type": "code",
   "execution_count": 93,
   "metadata": {},
   "outputs": [
    {
     "name": "stdout",
     "output_type": "stream",
     "text": [
      "{5, 6}\n",
      "set()\n"
     ]
    }
   ],
   "source": [
    "# Empties the whole set\n",
    "# set.clear()\n",
    "print(s8)\n",
    "s8.clear()\n",
    "print(s8)\n"
   ]
  },
  {
   "cell_type": "markdown",
   "metadata": {},
   "source": [
    "##### Frozenset <br>\n",
    "<p>Frozen sets are immutable objects that only support methods and operators that produce a result without affecting the frozen set or sets to which they are applied.</p><br><b>Unique & Immutable</b>"
   ]
  },
  {
   "cell_type": "code",
   "execution_count": 95,
   "metadata": {},
   "outputs": [
    {
     "name": "stdout",
     "output_type": "stream",
     "text": [
      "frozenset({1, 2, 3, 4})\n"
     ]
    }
   ],
   "source": [
    "# frozenset([])\n",
    "s1 = {1, 2, 3, 4}\n",
    "my_frozen_set = frozenset(s1)\n",
    "print(my_frozen_set)\n",
    "\n",
    "#you cannot add to or take from a frozen set- it will take away duplicates, but it is unchangeable \n",
    "\n",
    "#list()\n",
    "#dict()\n",
    "#set()\n",
    "#str()\n",
    "#frozenset()\n"
   ]
  },
  {
   "cell_type": "markdown",
   "metadata": {},
   "source": [
    "## Modules"
   ]
  },
  {
   "cell_type": "markdown",
   "metadata": {},
   "source": [
    "##### Importing Entire Modules"
   ]
  },
  {
   "cell_type": "code",
   "execution_count": 100,
   "metadata": {},
   "outputs": [
    {
     "name": "stdout",
     "output_type": "stream",
     "text": [
      "3.141592653589793\n",
      "3.141592653589793\n",
      "4\n"
     ]
    }
   ],
   "source": [
    "# import \n",
    "# or \n",
    "# from 'xxx' import *\n",
    "\n",
    "import math\n",
    "print(math.pi)\n",
    "\n",
    "#or \n",
    "\n",
    "from math import pi\n",
    "print(pi)\n",
    "\n",
    "#or \n",
    "\n",
    "from math import pi, ceil\n",
    "print(ceil(pi))"
   ]
  },
  {
   "cell_type": "markdown",
   "metadata": {},
   "source": [
    "##### Importing Methods Only"
   ]
  },
  {
   "cell_type": "code",
   "execution_count": 101,
   "metadata": {},
   "outputs": [
    {
     "name": "stdout",
     "output_type": "stream",
     "text": [
      "3.141592653589793\n",
      "3\n"
     ]
    }
   ],
   "source": [
    "# from 'xxx' import 'xxx'\n",
    "# from math import floor\n",
    "from math import floor, pi\n",
    "\n",
    "print(pi)\n",
    "print(floor(pi))\n"
   ]
  },
  {
   "cell_type": "markdown",
   "metadata": {},
   "source": [
    "##### Using the 'as' Keyword"
   ]
  },
  {
   "cell_type": "code",
   "execution_count": null,
   "metadata": {},
   "outputs": [],
   "source": [
    "# from 'xxx' import 'xxx' as 'xxx' or import 'xxx' as 'xxx'\n",
    "# from math import floor as f\n",
    "from math import floor as f, pi as p\n",
    "\n",
    "print(f(p))\n"
   ]
  },
  {
   "cell_type": "markdown",
   "metadata": {},
   "source": [
    "##### Creating a Module"
   ]
  },
  {
   "cell_type": "code",
   "execution_count": 105,
   "metadata": {},
   "outputs": [
    {
     "ename": "ModuleNotFoundError",
     "evalue": "No module named 'module'",
     "output_type": "error",
     "traceback": [
      "\u001b[0;31m---------------------------------------------------------------------------\u001b[0m",
      "\u001b[0;31mModuleNotFoundError\u001b[0m                       Traceback (most recent call last)",
      "Input \u001b[0;32mIn [105]\u001b[0m, in \u001b[0;36m<cell line: 1>\u001b[0;34m()\u001b[0m\n\u001b[0;32m----> 1\u001b[0m \u001b[38;5;28;01mfrom\u001b[39;00m \u001b[38;5;21;01mmodule\u001b[39;00m \u001b[38;5;28;01mimport\u001b[39;00m printName \u001b[38;5;28;01mas\u001b[39;00m pn\n\u001b[1;32m      3\u001b[0m pn(\u001b[38;5;124m'\u001b[39m\u001b[38;5;124mAften\u001b[39m\u001b[38;5;124m'\u001b[39m)\n",
      "\u001b[0;31mModuleNotFoundError\u001b[0m: No module named 'module'"
     ]
    }
   ],
   "source": [
    "from module import printName as pn\n",
    "\n",
    "pn('Aften')\n"
   ]
  },
  {
   "cell_type": "markdown",
   "metadata": {},
   "source": [
    "# Exercises"
   ]
  },
  {
   "cell_type": "markdown",
   "metadata": {},
   "source": [
    "### 1) Build a Shopping Cart <br>\n",
    "<p><b>You can use either lists or dictionaries. The program should have the following capabilities:</b><br><br>\n",
    "1) Takes in input <br>\n",
    "2) Stores user input into a dictionary or list <br>\n",
    "3) The User can add or delete items <br>\n",
    "4) The User can see current shopping list <br>\n",
    "5) The program Loops until user 'quits' <br>\n",
    "6) Upon quiting the program, print out all items in the user's list <br>\n",
    "</p>"
   ]
  },
  {
   "cell_type": "code",
   "execution_count": 150,
   "metadata": {},
   "outputs": [
    {
     "name": "stdout",
     "output_type": "stream",
     "text": [
      "Do you want to : Show/Add/Delete or Quit?Show\n",
      "Here are the items in your cart:\n",
      "Do you want to : Show/Add/Delete or Quit?Add\n",
      "What items would you like to add?Cheese\n",
      "['Cheese']\n",
      "Do you want to : Show/Add/Delete or Quit?Add\n",
      "What items would you like to add?Pickles\n",
      "['Cheese', 'Pickles']\n",
      "Do you want to : Show/Add/Delete or Quit?Add\n",
      "What items would you like to add?Kimchi\n",
      "['Cheese', 'Pickles', 'Kimchi']\n",
      "Do you want to : Show/Add/Delete or Quit?Add\n",
      "What items would you like to add?Gluten Free Bread\n",
      "['Cheese', 'Pickles', 'Kimchi', 'Gluten Free Bread']\n",
      "Do you want to : Show/Add/Delete or Quit?Add \n",
      "Please enter Show/Add/Delete or Quit\n",
      "Do you want to : Show/Add/Delete or Quit?Add\n",
      "What items would you like to add?Beets\n",
      "['Cheese', 'Pickles', 'Kimchi', 'Gluten Free Bread', 'Beets']\n",
      "Do you want to : Show/Add/Delete or Quit?Show\n",
      "Here are the items in your cart:\n",
      "Cheese\n",
      "Pickles\n",
      "Kimchi\n",
      "Gluten Free Bread\n",
      "Beets\n",
      "Do you want to : Show/Add/Delete or Quit?Quit\n",
      "\n",
      "Cheese\n",
      "Pickles\n",
      "Kimchi\n",
      "Gluten Free Bread\n",
      "Beets\n"
     ]
    }
   ],
   "source": [
    "from IPython.display import clear_output\n",
    "\n",
    "# Ask the user four bits of input: Do you want to : Show/Add/Delete or Quit?\n",
    "\n",
    "def shoppingCart():\n",
    "    cart = []\n",
    "    \n",
    "    while True:\n",
    "        ask = input('Do you want to : Show/Add/Delete or Quit?')\n",
    "        \n",
    "        # quit\n",
    "        if ask.lower() == 'quit':\n",
    "            print()\n",
    "            for item in cart:\n",
    "                print(item)\n",
    "            break\n",
    "            \n",
    "        # adding\n",
    "        elif ask.lower() == 'add':\n",
    "            item = input('What items would you like to add?')\n",
    "            cart.append(item)\n",
    "            print(cart)\n",
    "        \n",
    "        # delete\n",
    "        elif ask.lower() == 'delete':\n",
    "            print(f'here is your cart {cart}')\n",
    "            item = input('What items would you like to delete?')\n",
    "            cart.remove(item)\n",
    "            print(cart)\n",
    "            \n",
    "        # show\n",
    "        elif ask.lower() == 'show':\n",
    "            print('Here are the items in your cart:')\n",
    "            for item in cart:\n",
    "                print(item)\n",
    "        \n",
    "        else:\n",
    "            print('Please enter Show/Add/Delete or Quit')\n",
    "\n",
    "shoppingCart()\n"
   ]
  },
  {
   "cell_type": "markdown",
   "metadata": {},
   "source": [
    "### 2) Create a Module in VS Code and Import It into jupyter notebook <br>\n",
    "<p><b>Module should have the following capabilities:</b><br><br>\n",
    "1) Has a function to calculate the square footage of a house <br>\n",
    "    <b>Reminder of Formula: Length X Width == Area<br>\n",
    "        <hr>\n",
    "2) Has a function to calculate the circumference of a circle <br><br>\n",
    "<b>Program in Jupyter Notebook should take in user input and use imported functions to calculate a circle's circumference or a houses square footage</b>\n",
    "</p>"
   ]
  },
  {
   "cell_type": "code",
   "execution_count": 151,
   "metadata": {},
   "outputs": [
    {
     "ename": "ModuleNotFoundError",
     "evalue": "No module named 'area'",
     "output_type": "error",
     "traceback": [
      "\u001b[0;31m---------------------------------------------------------------------------\u001b[0m",
      "\u001b[0;31mModuleNotFoundError\u001b[0m                       Traceback (most recent call last)",
      "Input \u001b[0;32mIn [151]\u001b[0m, in \u001b[0;36m<cell line: 1>\u001b[0;34m()\u001b[0m\n\u001b[0;32m----> 1\u001b[0m \u001b[38;5;28;01mimport\u001b[39;00m \u001b[38;5;21;01marea\u001b[39;00m\n\u001b[1;32m      2\u001b[0m area\u001b[38;5;241m.\u001b[39marea()\n\u001b[1;32m      3\u001b[0m \u001b[38;5;28mprint\u001b[39m(area)\n",
      "\u001b[0;31mModuleNotFoundError\u001b[0m: No module named 'area'"
     ]
    }
   ],
   "source": []
  },
  {
   "cell_type": "code",
   "execution_count": null,
   "metadata": {},
   "outputs": [],
   "source": []
  }
 ],
 "metadata": {
  "kernelspec": {
   "display_name": "Python 3 (ipykernel)",
   "language": "python",
   "name": "python3"
  },
  "language_info": {
   "codemirror_mode": {
    "name": "ipython",
    "version": 3
   },
   "file_extension": ".py",
   "mimetype": "text/x-python",
   "name": "python",
   "nbconvert_exporter": "python",
   "pygments_lexer": "ipython3",
   "version": "3.10.7"
  },
  "vscode": {
   "interpreter": {
    "hash": "aee8b7b246df8f9039afb4144a1f6fd8d2ca17a180786b69acc140d282b71a49"
   }
  }
 },
 "nbformat": 4,
 "nbformat_minor": 2
}
